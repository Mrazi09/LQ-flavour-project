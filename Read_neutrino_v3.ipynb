{
 "cells": [
  {
   "cell_type": "markdown",
   "metadata": {},
   "source": [
    "# Notebook for reproducing the neutrino masses and PMNS from data inside GitHub"
   ]
  },
  {
   "cell_type": "code",
   "execution_count": 1,
   "metadata": {},
   "outputs": [],
   "source": [
    "import pandas as pd\n",
    "import numpy as np"
   ]
  },
  {
   "cell_type": "markdown",
   "metadata": {},
   "source": [
    "# Read dataframes with the data. Please adapt your own paths. We demonstrate for the most up to date data (Data_v3)"
   ]
  },
  {
   "cell_type": "code",
   "execution_count": 2,
   "metadata": {},
   "outputs": [],
   "source": [
    "Path_to_files = \"/home/felipe/JoaoPino/1_LQs_project/Response_v1/Auxiliar_codes/Data_v3\"\n",
    "\n",
    "df_1 = pd.read_csv('{}/Angles.csv'.format(Path_to_files), sep=',')\n",
    "df_2 = pd.read_csv('{}/Couplings.csv'.format(Path_to_files), sep=',')\n",
    "df_3 = pd.read_csv('{}/SM_pars.csv'.format(Path_to_files), sep=',')\n",
    "df_4 = pd.read_csv('{}/Flavour_obs.csv'.format(Path_to_files), sep=',')"
   ]
  },
  {
   "cell_type": "markdown",
   "metadata": {},
   "source": [
    "# Auxiliar functions"
   ]
  },
  {
   "cell_type": "code",
   "execution_count": 3,
   "metadata": {},
   "outputs": [],
   "source": [
    "def PMNS(a13, a23, a12, dCP):\n",
    "    \n",
    "    \"\"\"\n",
    "    Determine the experimental PMNS matrix, based on the angles. PDG parametrization\n",
    "    \n",
    "    Inputs:\n",
    "        -> a13: Angle between 1 and 3 lepton states\n",
    "        -> a23: Angle between 2 and 2 lepton states\n",
    "        -> a12: Angle between 1 and 2 lepton states\n",
    "        -> dCP: CP violating phase\n",
    "        \n",
    "    There is numerical errors when picking dCP = 180. It prints out a non-zero imaginary part. It is very small,\n",
    "    of the order O(1e-16), but causes errors when trying to find solutions\n",
    "    A quick hack is added to make Exp(-i*180º) = -1\n",
    "    \n",
    "    Additional info: https://stackoverflow.com/questions/59021598/numpy-precision-with-exponentials-of-imaginary-numbers\n",
    "    \"\"\"\n",
    "\n",
    "    if dCP == 180:\n",
    "        \n",
    "        ad13 = np.deg2rad(a13)\n",
    "        ad23 = np.deg2rad(a23)\n",
    "        ad12 = np.deg2rad(a12)\n",
    "        ddCP = np.deg2rad(dCP)\n",
    "        Exp1 = np.round(np.exp(-1j*ddCP))\n",
    "        Exp2 = np.round(np.exp(+1j*ddCP))\n",
    "\n",
    "\n",
    "        R1 = np.array([[1,0,0], [0,np.cos(ad23),np.sin(ad23)], [0,-np.sin(ad23),np.cos(ad23)]])\n",
    "        R2 = np.array([[np.cos(ad13), 0, np.sin(ad13)*Exp1], [0,1,0], [-np.sin(ad13)*Exp2, 0, np.cos(ad13)]])\n",
    "        R3 = np.array([[np.cos(ad12), np.sin(ad12), 0], [-np.sin(ad12), np.cos(ad12), 0], [0,0,1]])\n",
    "    \n",
    "    else:\n",
    "        \n",
    "        ad13 = np.deg2rad(a13)\n",
    "        ad23 = np.deg2rad(a23)\n",
    "        ad12 = np.deg2rad(a12)\n",
    "        ddCP = np.deg2rad(dCP)\n",
    "\n",
    "        R1 = np.array([[1,0,0], [0,np.cos(ad23),np.sin(ad23)], [0,-np.sin(ad23),np.cos(ad23)]])\n",
    "        R2 = np.array([[np.cos(ad13), 0, np.sin(ad13)*np.exp(-1j*ddCP)], [0,1,0], [-np.sin(ad13)*np.exp(1j*ddCP), 0, np.cos(ad13)]])\n",
    "        R3 = np.array([[np.cos(ad12), np.sin(ad12), 0], [-np.sin(ad12), np.cos(ad12), 0], [0,0,1]])\n",
    "        \n",
    "    Vpmns = R1 @ R2 @ R3\n",
    "    \n",
    "    return Vpmns\n",
    "\n",
    "def CKM (s12, s13, s23, d):\n",
    "    \n",
    "    \"\"\"\n",
    "    Determine the experimental CKM matrix, based on the standard parameterization\n",
    "    \n",
    "    Inputs:\n",
    "        -> s12: sine of the angle between 1 and 2 quark states\n",
    "        -> s13: sine of the angle between 1 and 3 quark states\n",
    "        -> s23: sine of the angle between 2 and 3 quark states\n",
    "        -> d: CP violating phase\n",
    "    \"\"\"\n",
    "    \n",
    "    c12 = np.sqrt(1 - s12**2)\n",
    "    c13 = np.sqrt(1 - s13**2)\n",
    "    c23 = np.sqrt(1 - s23**2)\n",
    "    \n",
    "    R1 = np.array([[1,0,0],[0,c23,s23],[0,-s23,c23]])\n",
    "    R2 = np.array([[c13,0,s13*np.exp(-1j*d)],[0,1,0],[-s13*np.exp(1j*d),0,c13]])\n",
    "    R3 = np.array([[c12,s12,0],[-s12,c12,0],[0,0,1]])\n",
    "    \n",
    "    Vckm = R1 @ R2 @ R3\n",
    "    \n",
    "    return Vckm\n",
    "\n",
    "#Neutrino one-loop mass formula. Corresponds to equation (5) in the main text\n",
    "def Neutrino_oneloop(i, j, Omega, Theta, VCKM, v, a1, md, mS1, mS2):\n",
    "    \n",
    "    \"\"\"\n",
    "    Computes the loop function for the neutrino mass matrix. Takes as input\n",
    "    the Yukawa matrices, Omega and Theta, the CKM mixing matrix, the cubic term\n",
    "    a1, the vaccuum expectation value, the leptoquark masses (mS1 and mS2) and the\n",
    "    down-type quark masses.\n",
    "    \n",
    "    \"\"\"\n",
    "    \n",
    "    Cte = (3*alpha1*v)/(16*np.sqrt(2)*(mS2**2 - mS1**2)*np.pi**2)*np.log(mS2**2/mS1**2)\n",
    "    \n",
    "    F = Cte*sum(md[a]*VCKM[a,m]*(Theta[i][m]*Omega[j][a] + Theta[j][m]*Omega[i][a]) for m in range(3) for a in range(3)) \n",
    "    \n",
    "    return F\n",
    "\n",
    "def eigen(A):\n",
    "    eigenValues, eigenVectors = np.linalg.eig(A)\n",
    "    idx = np.argsort(np.abs(eigenValues))\n",
    "    eigenValues = np.abs(eigenValues[idx])\n",
    "    eigenVectors = eigenVectors[:,idx].T\n",
    "    return (eigenValues, eigenVectors)\n"
   ]
  },
  {
   "cell_type": "markdown",
   "metadata": {},
   "source": [
    "# Calculating the neutrino masses and mixing. Please note that charged leptons are always diagonal! "
   ]
  },
  {
   "cell_type": "code",
   "execution_count": 4,
   "metadata": {},
   "outputs": [
    {
     "name": "stdout",
     "output_type": "stream",
     "text": [
      "Neutrino masses: \n",
      "\n",
      " [1.52804557e-15 8.65487196e-12 5.03208718e-11]\n",
      "PMNS mixing matrix: \n",
      "\n",
      " [[0.83596897 0.52759766 0.15098538]\n",
      " [0.3076288  0.67837254 0.66721452]\n",
      " [0.45444516 0.51132318 0.72940263]]\n",
      "\n",
      "\n",
      "PMNS and mass conditions: True\n"
     ]
    }
   ],
   "source": [
    "#It will pick a random point from the dataframe\n",
    "loc = np.random.randint(0, len(df_1))\n",
    "\n",
    "VCKM = CKM (s12 = df_1['s12q'].iloc[loc], s13 = df_1['s13q'].iloc[loc], s23 = df_1['s23q'].iloc[loc], d = df_1['DqCP'].iloc[loc])\n",
    "alpha1 = df_2['a1'].iloc[loc]\n",
    "mS1 = df_2['mS1'].iloc[loc]\n",
    "mS2 = df_2['mS2'].iloc[loc]\n",
    "v = df_3['v'].iloc[loc]\n",
    "md = np.array([df_3['md'].iloc[loc], df_3['ms'].iloc[loc], df_3['mb'].iloc[loc]])\n",
    "\n",
    "Theta = np.array([[complex(df_2['Theta11'].iloc[loc]), complex(df_2['Theta12'].iloc[loc]), complex(df_2['Theta13'].iloc[loc])],\n",
    "                  [complex(df_2['Theta21'].iloc[loc]), complex(df_2['Theta22'].iloc[loc]), complex(df_2['Theta23'].iloc[loc])],\n",
    "                  [complex(df_2['Theta31'].iloc[loc]), complex(df_2['Theta32'].iloc[loc]), complex(df_2['Theta33'].iloc[loc])]])\n",
    "\n",
    "Omega = np.array([[complex(df_2['Omega11'].iloc[loc]), complex(df_2['Omega12'].iloc[loc]), complex(df_2['Omega13'].iloc[loc])],\n",
    "                  [complex(df_2['Omega21'].iloc[loc]), complex(df_2['Omega22'].iloc[loc]), complex(df_2['Omega23'].iloc[loc])],\n",
    "                  [complex(df_2['Omega31'].iloc[loc]), complex(df_2['Omega32'].iloc[loc]), complex(df_2['Omega33'].iloc[loc])]])\n",
    "\n",
    "#Calculate the neutrino mass matrix\n",
    "Mnu11 = Neutrino_oneloop(i=0, j = 0, Omega = Omega, Theta = Theta, VCKM = VCKM, v = v, a1 = alpha1, md = md, mS1 = mS1, mS2 = mS2)\n",
    "Mnu12 = Neutrino_oneloop(i=0, j = 1, Omega = Omega, Theta = Theta, VCKM = VCKM, v = v, a1 = alpha1, md = md, mS1 = mS1, mS2 = mS2)\n",
    "Mnu13 = Neutrino_oneloop(i=0, j = 2, Omega = Omega, Theta = Theta, VCKM = VCKM, v = v, a1 = alpha1, md = md, mS1 = mS1, mS2 = mS2)\n",
    "Mnu21 = Neutrino_oneloop(i=1, j = 0, Omega = Omega, Theta = Theta, VCKM = VCKM, v = v, a1 = alpha1, md = md, mS1 = mS1, mS2 = mS2)\n",
    "Mnu22 = Neutrino_oneloop(i=1, j = 1, Omega = Omega, Theta = Theta, VCKM = VCKM, v = v, a1 = alpha1, md = md, mS1 = mS1, mS2 = mS2)\n",
    "Mnu23 = Neutrino_oneloop(i=1, j = 2, Omega = Omega, Theta = Theta, VCKM = VCKM, v = v, a1 = alpha1, md = md, mS1 = mS1, mS2 = mS2)\n",
    "Mnu31 = Neutrino_oneloop(i=2, j = 0, Omega = Omega, Theta = Theta, VCKM = VCKM, v = v, a1 = alpha1, md = md, mS1 = mS1, mS2 = mS2)\n",
    "Mnu32 = Neutrino_oneloop(i=2, j = 1, Omega = Omega, Theta = Theta, VCKM = VCKM, v = v, a1 = alpha1, md = md, mS1 = mS1, mS2 = mS2)\n",
    "Mnu33 = Neutrino_oneloop(i=2, j = 2, Omega = Omega, Theta = Theta, VCKM = VCKM, v = v, a1 = alpha1, md = md, mS1 = mS1, mS2 = mS2)\n",
    "Mnu = np.array([[Mnu11, Mnu12, Mnu13],[Mnu21, Mnu22, Mnu23],[Mnu31, Mnu32, Mnu33]])\n",
    "\n",
    "Mnu_diag, UPMNS = eigen(Mnu)\n",
    "\n",
    "print(\"Neutrino masses: \\n\\n\", Mnu_diag)\n",
    "print(\"PMNS mixing matrix: \\n\\n\", np.abs(UPMNS))\n",
    "\n",
    "#PMNS and mass difference conditions. Cond_PMNS must be true\n",
    "Cond_PMNS = ((0.801 <= np.round(np.abs(UPMNS[0,0]),3) <= 0.845) and \\\n",
    "                    (0.513 <= np.round(np.abs(UPMNS[0,1]),3) <= 0.579) and \\\n",
    "                    (0.144 <= np.round(np.abs(UPMNS[0,2]),3) <= 0.156) and \\\n",
    "                    (0.244 <= np.round(np.abs(UPMNS[1,0]),3) <= 0.499) and \\\n",
    "                    (0.505 <= np.round(np.abs(UPMNS[1,1]),3) <= 0.693) and \\\n",
    "                    (0.631 <= np.round(np.abs(UPMNS[1,2]),3) <= 0.768) and \\\n",
    "                    (0.272 <= np.round(np.abs(UPMNS[2,0]),3) <= 0.518) and \\\n",
    "                    (0.471 <= np.round(np.abs(UPMNS[2,1]),3) <= 0.669) and \\\n",
    "                    (0.623 <= np.round(np.abs(UPMNS[2,2]),3) <= 0.761) and \\\n",
    "                    (np.round(((Mnu_diag[1]*1e9)**2 - (Mnu_diag[0]*1e9)**2),7) > (7.42 - 3*0.20)*1e-5) and \\\n",
    "                    (np.round(((Mnu_diag[1]*1e9)**2 - (Mnu_diag[0]*1e9)**2),7) < (7.42 + 3*0.20)*1e-5) and \\\n",
    "                    (np.round(((Mnu_diag[2]*1e9)**2 - (Mnu_diag[1]*1e9)**2),8) > (2.510 - 3*0.027)*1e-3) and \\\n",
    "                    (np.round(((Mnu_diag[2]*1e9)**2 - (Mnu_diag[1]*1e9)**2),8) < (2.510 + 3*0.027)*1e-3))\n",
    "print(\"\\n\")\n",
    "print(\"PMNS and mass conditions:\", Cond_PMNS)"
   ]
  },
  {
   "cell_type": "markdown",
   "metadata": {},
   "source": [
    "# As one can see, the correct masses and PMNS mixing is reproduced from the data provided in the GitHub page"
   ]
  },
  {
   "cell_type": "code",
   "execution_count": null,
   "metadata": {},
   "outputs": [],
   "source": []
  },
  {
   "cell_type": "code",
   "execution_count": null,
   "metadata": {},
   "outputs": [],
   "source": []
  }
 ],
 "metadata": {
  "kernelspec": {
   "display_name": "MG5-py3",
   "language": "python",
   "name": "madgraph-py3"
  },
  "language_info": {
   "codemirror_mode": {
    "name": "ipython",
    "version": 3
   },
   "file_extension": ".py",
   "mimetype": "text/x-python",
   "name": "python",
   "nbconvert_exporter": "python",
   "pygments_lexer": "ipython3",
   "version": "3.7.6"
  }
 },
 "nbformat": 4,
 "nbformat_minor": 4
}
